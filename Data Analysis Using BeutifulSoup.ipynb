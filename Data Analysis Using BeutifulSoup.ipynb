{
 "cells": [
  {
   "cell_type": "code",
   "execution_count": 1,
   "id": "ba1e3a05",
   "metadata": {},
   "outputs": [],
   "source": [
    "import requests"
   ]
  },
  {
   "cell_type": "code",
   "execution_count": 2,
   "id": "9573d14f",
   "metadata": {},
   "outputs": [],
   "source": [
    "link=\"https://www.worldometers.info/coronavirus/\""
   ]
  },
  {
   "cell_type": "code",
   "execution_count": 3,
   "id": "02bb4f07",
   "metadata": {},
   "outputs": [],
   "source": [
    "data=requests.get(link).text"
   ]
  },
  {
   "cell_type": "code",
   "execution_count": 4,
   "id": "24f8fca1",
   "metadata": {},
   "outputs": [],
   "source": [
    "from bs4 import BeautifulSoup as bs"
   ]
  },
  {
   "cell_type": "code",
   "execution_count": 5,
   "id": "2476beda",
   "metadata": {},
   "outputs": [],
   "source": [
    "data1=bs(data,\"html.parser\")"
   ]
  },
  {
   "cell_type": "code",
   "execution_count": 6,
   "id": "721018d9",
   "metadata": {},
   "outputs": [],
   "source": [
    "values=data1.find_all(\"div\",class_=\"maincounter-number\")"
   ]
  },
  {
   "cell_type": "code",
   "execution_count": 7,
   "id": "d57c3e19",
   "metadata": {},
   "outputs": [
    {
     "data": {
      "text/plain": [
       "['279,499,808 ', '5,411,929', '249,880,817']"
      ]
     },
     "execution_count": 7,
     "metadata": {},
     "output_type": "execute_result"
    }
   ],
   "source": [
    "values_list=[]\n",
    "for i in values:\n",
    "    values_list.append(i.span.text)\n",
    "values_list"
   ]
  },
  {
   "cell_type": "code",
   "execution_count": 8,
   "id": "65a657cc",
   "metadata": {},
   "outputs": [],
   "source": [
    "import pandas as pd"
   ]
  },
  {
   "cell_type": "code",
   "execution_count": 36,
   "id": "e18ad834",
   "metadata": {},
   "outputs": [],
   "source": [
    "d={\"Coronavirus cases\":values_list[0],\"Deaths\":values_list[1],\"Recovered\":values_list[2]}"
   ]
  },
  {
   "cell_type": "code",
   "execution_count": 37,
   "id": "125c61c9",
   "metadata": {},
   "outputs": [
    {
     "data": {
      "text/plain": [
       "{'Coronavirus cases': ['265,801,429 '],\n",
       " 'Deaths': ['5,266,133'],\n",
       " 'Recovered': ['239,516,661']}"
      ]
     },
     "execution_count": 37,
     "metadata": {},
     "output_type": "execute_result"
    }
   ],
   "source": [
    "d"
   ]
  },
  {
   "cell_type": "code",
   "execution_count": 46,
   "id": "2a558be0",
   "metadata": {},
   "outputs": [],
   "source": [
    "df=pd.DataFrame(d)"
   ]
  },
  {
   "cell_type": "code",
   "execution_count": 47,
   "id": "b00dea69",
   "metadata": {},
   "outputs": [
    {
     "data": {
      "text/html": [
       "<div>\n",
       "<style scoped>\n",
       "    .dataframe tbody tr th:only-of-type {\n",
       "        vertical-align: middle;\n",
       "    }\n",
       "\n",
       "    .dataframe tbody tr th {\n",
       "        vertical-align: top;\n",
       "    }\n",
       "\n",
       "    .dataframe thead th {\n",
       "        text-align: right;\n",
       "    }\n",
       "</style>\n",
       "<table border=\"1\" class=\"dataframe\">\n",
       "  <thead>\n",
       "    <tr style=\"text-align: right;\">\n",
       "      <th></th>\n",
       "      <th>Coronavirus cases</th>\n",
       "      <th>Deaths</th>\n",
       "      <th>Recovered</th>\n",
       "    </tr>\n",
       "  </thead>\n",
       "  <tbody>\n",
       "    <tr>\n",
       "      <th>0</th>\n",
       "      <td>265,801,429</td>\n",
       "      <td>5,266,133</td>\n",
       "      <td>239,516,661</td>\n",
       "    </tr>\n",
       "  </tbody>\n",
       "</table>\n",
       "</div>"
      ],
      "text/plain": [
       "  Coronavirus cases     Deaths    Recovered\n",
       "0      265,801,429   5,266,133  239,516,661"
      ]
     },
     "execution_count": 47,
     "metadata": {},
     "output_type": "execute_result"
    }
   ],
   "source": [
    "df"
   ]
  },
  {
   "cell_type": "code",
   "execution_count": null,
   "id": "a5e7b7db",
   "metadata": {},
   "outputs": [],
   "source": []
  }
 ],
 "metadata": {
  "kernelspec": {
   "display_name": "Python 3",
   "language": "python",
   "name": "python3"
  },
  "language_info": {
   "codemirror_mode": {
    "name": "ipython",
    "version": 3
   },
   "file_extension": ".py",
   "mimetype": "text/x-python",
   "name": "python",
   "nbconvert_exporter": "python",
   "pygments_lexer": "ipython3",
   "version": "3.8.8"
  }
 },
 "nbformat": 4,
 "nbformat_minor": 5
}
